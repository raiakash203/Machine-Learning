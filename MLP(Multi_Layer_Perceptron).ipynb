{
  "nbformat": 4,
  "nbformat_minor": 0,
  "metadata": {
    "colab": {
      "name": "MLP.ipynb",
      "provenance": [],
      "private_outputs": true,
      "collapsed_sections": [],
      "authorship_tag": "ABX9TyObJ7/hfvmtYCSER+Vi1jBm",
      "include_colab_link": true
    },
    "kernelspec": {
      "name": "python3",
      "display_name": "Python 3"
    }
  },
  "cells": [
    {
      "cell_type": "markdown",
      "metadata": {
        "id": "view-in-github",
        "colab_type": "text"
      },
      "source": [
        "<a href=\"https://colab.research.google.com/github/raiakash203/Machine-Learning/blob/Dimension-Reduction/MLP(Multi_Layer_Perceptron).ipynb\" target=\"_parent\"><img src=\"https://colab.research.google.com/assets/colab-badge.svg\" alt=\"Open In Colab\"/></a>"
      ]
    },
    {
      "cell_type": "markdown",
      "metadata": {
        "id": "J4xHGfxAuR2z",
        "colab_type": "text"
      },
      "source": [
        "## MLP Initialization"
      ]
    },
    {
      "cell_type": "code",
      "metadata": {
        "id": "XxrQfcSqpmrC",
        "colab_type": "code",
        "colab": {}
      },
      "source": [
        "!pip install tensorflow==1.14"
      ],
      "execution_count": 0,
      "outputs": []
    },
    {
      "cell_type": "code",
      "metadata": {
        "id": "pQKeU35pqlem",
        "colab_type": "code",
        "colab": {}
      },
      "source": [
        "from tensorflow.examples.tutorials.mnist import input_data\n",
        "\n",
        "mnist=input_data.read_data_sets(\"MNIST\", one_hot=True)"
      ],
      "execution_count": 0,
      "outputs": []
    },
    {
      "cell_type": "code",
      "metadata": {
        "id": "2ngCxq7hucle",
        "colab_type": "code",
        "colab": {}
      },
      "source": [
        "import tensorflow as tf\n",
        "import numpy as np\n",
        "import matplotlib.pyplot as plt\n",
        "\n",
        "%matplotlib inline"
      ],
      "execution_count": 0,
      "outputs": []
    },
    {
      "cell_type": "code",
      "metadata": {
        "id": "Xe0Ei2VeumSX",
        "colab_type": "code",
        "colab": {}
      },
      "source": [
        "def plot_dynamics(x,y,y_1,ax,ticks,title,colors=['b']):\n",
        "  ax.plot(x,y,'b',label='Train Loss')\n",
        "  ax.plot(x,y_1,'r',label='Test Loss')\n",
        "  if len(x)==1:\n",
        "    plt.legend()\n",
        "    plt.title(title)\n",
        "  plt.yticks(ticks)\n",
        "  fig.canvas.draw()"
      ],
      "execution_count": 0,
      "outputs": []
    },
    {
      "cell_type": "code",
      "metadata": {
        "id": "4kqAtX2Tu9qs",
        "colab_type": "code",
        "colab": {}
      },
      "source": [
        "#Network Parameter\n",
        "n_hidden_1 = 512  # 1st layer neurons\n",
        "n_hidden_2 = 128 # 2nd Layer neurons\n",
        "n_input = 784 #MNIST data inputs\n",
        "n_classes = 10 #MNIST output labels\n"
      ],
      "execution_count": 0,
      "outputs": []
    },
    {
      "cell_type": "code",
      "metadata": {
        "id": "guWTmINdvvr6",
        "colab_type": "code",
        "colab": {}
      },
      "source": [
        "x = tf.placeholder(tf.float32,[None,784])\n",
        "y_ = tf.placeholder(tf.float32,[None,10])\n",
        "\n",
        "#These are used when using dropouts\n",
        "keep_prob = tf.placeholder(tf.float32)\n",
        "keep_prob_inputs = tf.placeholder(tf.float32)"
      ],
      "execution_count": 0,
      "outputs": []
    },
    {
      "cell_type": "code",
      "metadata": {
        "id": "cheKiVvRwl33",
        "colab_type": "code",
        "colab": {}
      },
      "source": [
        "#Weights initialization\n",
        "\n",
        "#When using normal sigmoid activation unit we use Xavier/Gloro weight initialization based on fan_in adn fan_out\n",
        "#For h1 fan_in=784, fan_out = 512\n",
        "#For h2 fan_in=512 fan_out = 128\n",
        "#and so on\n",
        "\n",
        "# h1 => σ=√(2/(fan_in+fan_out+1) = 0.039 => N(0,σ) = N(0,0.039)\n",
        "# h2 => σ=√(2/(fan_in+fan_out+1) = 0.055 => N(0,σ) = N(0,0.055)\n",
        "# out => σ=√(2/(fan_in+fan_out+1) = 0.120 => N(0,σ) = N(0,0.120)\n",
        "\n",
        "weights_sgd = {\n",
        "    'h1' : tf.Variable(tf.random.normal([n_input,n_hidden_1],stddev=0.039,mean=0)),\n",
        "    'h2' : tf.Variable(tf.random.normal([n_hidden_1,n_hidden_2],stddev=0.055,mean=0)),\n",
        "    'out' : tf.Variable(tf.random.normal([n_hidden_2,n_classes],stddev=0.120,mean=0))\n",
        "\n",
        "}\n",
        "\n",
        "#In case of ReLu activation function, we generally use He initialization, for normal\n",
        "# h1 => σ=√(2/(fan_in+1) = 0.062 => N(0,σ) = N(0,0.062)\n",
        "# h2 => σ=√(2/(fan_in+1) = 0.125 => N(0,σ) = N(0,0.125)\n",
        "# out => σ=√(2/(fan_in+1) = 0.120 => N(0,σ) = N(0,0.120)\n",
        "\n",
        "weights_relu = {\n",
        "    'h1' : tf.Variable(tf.random.normal([n_input,n_hidden_1],stddev=0.062,mean=0)),\n",
        "    'h2' : tf.Variable(tf.random.normal([n_hidden_1,n_hidden_2],stddev=0.125,mean=0)),\n",
        "    'out' : tf.Variable(tf.random.normal([n_hidden_2,n_classes],stddev=0.120,mean=0))\n",
        "\n",
        "}\n",
        "\n",
        "#Bias initialization\n",
        "\n",
        "biases = {\n",
        "    'b1' : tf.Variable(tf.random.normal([n_hidden_1])),\n",
        "    'b2' : tf.Variable(tf.random.normal([n_hidden_2])),\n",
        "    'out' : tf.Variable(tf.random.normal([n_classes]))\n",
        "}"
      ],
      "execution_count": 0,
      "outputs": []
    },
    {
      "cell_type": "code",
      "metadata": {
        "id": "6wJbQs_HzmZq",
        "colab_type": "code",
        "colab": {}
      },
      "source": [
        "# Parameters\n",
        "train_epooch = 15\n",
        "learning_rate = 0.001\n",
        "batch_size = 100\n",
        "display_step = 1"
      ],
      "execution_count": 0,
      "outputs": []
    },
    {
      "cell_type": "markdown",
      "metadata": {
        "id": "GwsZZkxy0ASw",
        "colab_type": "text"
      },
      "source": [
        "# Model1 : input(784) - sigmoid(512) - sigmoid(128) - softmax(10)"
      ]
    },
    {
      "cell_type": "code",
      "metadata": {
        "id": "rz9fVaD6z1ND",
        "colab_type": "code",
        "colab": {}
      },
      "source": [
        "#Create Model\n",
        "\n",
        "def multilayer_perceptron(x,weights,biases):\n",
        "  print('X: ',x.get_shape(),'W[h1] : ',weights['h1'].get_shape(),'b[h1]: ',biases['b1'].get_shape())\n",
        "\n",
        "  #Hidden layer with sigmoid activation\n",
        "  layer_1 = tf.add(tf.matmul(x,weights['h1']),biases['b1'])\n",
        "  layer_1 = tf.nn.sigmoid(layer_1)\n",
        "  print('layer_1: ',layer_1.get_shape(),'W[h2] : ',weights['h2'].get_shape(),'b[h2]: ',biases['b2'].get_shape())\n",
        "\n",
        "  #Hidden layer with sigmoid activation\n",
        "  layer_2 = tf.add(tf.matmul(layer_1,weights['h2']),biases['b2'])\n",
        "  layer_2 = tf.nn.sigmoid(layer_2)\n",
        "  print('layer_2: ',layer_2.get_shape(),'W[out] : ',weights['out'].get_shape(),'b[out]: ',biases['out'].get_shape())\n",
        "  \n",
        "  #Output layer with sigmoid activation\n",
        "  out_layer = tf.add(tf.matmul(layer_2,weights['out']),biases['out'])\n",
        "  out_layer = tf.nn.sigmoid(out_layer)\n",
        "  print('out_layer: ',out_layer.get_shape())\n",
        "\n",
        "  return out_layer\n"
      ],
      "execution_count": 0,
      "outputs": []
    },
    {
      "cell_type": "markdown",
      "metadata": {
        "id": "zpLyUvmu3pb4",
        "colab_type": "text"
      },
      "source": [
        "## Model1 + AdamOptimizer"
      ]
    },
    {
      "cell_type": "code",
      "metadata": {
        "id": "GAm0LL1r3ofW",
        "colab_type": "code",
        "colab": {}
      },
      "source": [
        "y_sgd = multilayer_perceptron(x,weights_sgd,biases)\n",
        "\n",
        "cost_sgd = tf.reduce_mean(tf.nn.softmax_cross_entropy_with_logits(logits=y_sgd, labels=y_))\n",
        "\n",
        "optimizer_adam = tf.train.AdamOptimizer(learning_rate=learning_rate).minimize(cost_sgd)\n",
        "optimizer_sgdc = tf.train.GradientDescentOptimizer(learning_rate=learning_rate).minimize(cost_sgd)\n",
        "\n",
        "with tf.Session() as session:\n",
        "  tf.global_variables_initializer().run()\n",
        "  fig,ax = plt.subplots(1,1)\n",
        "  ax.set_xlabel('Epoochs')\n",
        "  ax.set_ylabel('SoftMax Cross Entropy loss')\n",
        "  xs,ytrs,ytes = [],[],[]\n",
        "  for epooch in range(train_epooch):\n",
        "    train_avg_err = 0\n",
        "    test_avg_err = 0\n",
        "    total_batch = int(mnist.train.num_examples/batch_size)\n",
        "\n",
        "    #Loop over all batches\n",
        "    for i in range(total_batch):\n",
        "      batch_xs,batch_ys = mnist.train.next_batch(batch_size)\n",
        "\n",
        "      _,c,w = session.run([optimizer_adam,cost_sgd,weights_sgd], feed_dict = {x:batch_xs,y_:batch_ys})\n",
        "      train_avg_err += c/total_batch\n",
        "      c = session.run(cost_sgd, feed_dict = {x: mnist.test.images, y_:mnist.test.labels})\n",
        "      test_avg_err += c/total_batch\n",
        "    \n",
        "    xs.append(epooch)\n",
        "    ytrs.append(train_avg_err)\n",
        "    ytes.append(test_avg_err)\n",
        "    plot_dynamics(xs,ytrs,ytes,ax,np.arange(1.3,1.8,step=0.04),'input-Sigmoid(512)-Sigmoid(128)-Sigmoid(Output(10))-AdamOptimizer')\n",
        "\n",
        "    if epooch%display_step==0:\n",
        "      print('Epooch: {}, Train_cost: {}, Test_cost: {}'.format(epooch,train_avg_err,test_avg_err))\n",
        "\n",
        "  #Plot final results\n",
        "  plot_dynamics(xs,ytrs,ytes,ax,np.arange(1.3,1.8,step=0.04),'input-Sigmoid(512)-Sigmoid(128)-Sigmoid(Output(10))-AdamOptimizer')\n",
        "\n",
        "  #Final Accuracy\n",
        "  correct_prediction = tf.equal(tf.argmax(y_sgd,1),tf.argmax(y_,1))\n",
        "  accuracy = tf.reduce_mean(tf.cast(correct_prediction,tf.float32))\n",
        "  print(\"Accuracy-----> \",accuracy.eval({x:mnist.test.images,y_:mnist.test.labels}))"
      ],
      "execution_count": 0,
      "outputs": []
    },
    {
      "cell_type": "markdown",
      "metadata": {
        "id": "XHC0Skx1H1jE",
        "colab_type": "text"
      },
      "source": [
        "## Model1 + GradientDescentOptimizer"
      ]
    },
    {
      "cell_type": "code",
      "metadata": {
        "id": "ldMrBue7-YIM",
        "colab_type": "code",
        "colab": {}
      },
      "source": [
        "with tf.Session() as session:\n",
        "  tf.global_variables_initializer().run()\n",
        "  fig,ax = plt.subplots(1,1)\n",
        "  ax.set_xlabel('Epoochs')\n",
        "  ax.set_ylabel('SoftMax Cross Entropy loss')\n",
        "  xs,ytrs,ytes = [],[],[]\n",
        "  for epooch in range(train_epooch):\n",
        "    train_avg_err = 0\n",
        "    test_avg_err = 0\n",
        "    total_batch = int(mnist.train.num_examples/batch_size)\n",
        "\n",
        "    #Loop over all batches\n",
        "    for i in range(total_batch):\n",
        "      batch_xs,batch_ys = mnist.train.next_batch(batch_size)\n",
        "\n",
        "      _,c,w = session.run([optimizer_sgdc,cost_sgd,weights_sgd], feed_dict = {x:batch_xs,y_:batch_ys})\n",
        "      train_avg_err += c/total_batch\n",
        "      c = session.run(cost_sgd, feed_dict = {x: mnist.test.images, y_:mnist.test.labels})\n",
        "      test_avg_err += c/total_batch\n",
        "    \n",
        "    xs.append(epooch)\n",
        "    ytrs.append(train_avg_err)\n",
        "    ytes.append(test_avg_err)\n",
        "    plot_dynamics(xs,ytrs,ytes,ax,np.arange(1.3,1.8,step=0.04),'input-Sigmoid(512)-Sigmoid(128)-Sigmoid(Output(10))-AdamOptimizer')\n",
        "\n",
        "    if epooch%display_step==0:\n",
        "      print('Epooch: {}, Train_cost: {}, Test_cost: {}'.format(epooch,train_avg_err,test_avg_err))\n",
        "\n",
        "  #Plot final results\n",
        "  plot_dynamics(xs,ytrs,ytes,ax,np.arange(1.3,1.8,step=0.04),'input-Sigmoid(512)-Sigmoid(128)-Sigmoid(Output(10))-AdamOptimizer')\n",
        "\n",
        "  #Final Accuracy\n",
        "  correct_prediction = tf.equal(tf.argmax(y_sgd,1),tf.argmax(y_,1))\n",
        "  accuracy = tf.reduce_mean(tf.cast(correct_prediction,tf.float32))\n",
        "  print(\"Accuracy-----> \",accuracy.eval({x:mnist.test.images,y_:mnist.test.labels})) "
      ],
      "execution_count": 0,
      "outputs": []
    },
    {
      "cell_type": "code",
      "metadata": {
        "id": "hSOKwWXoIK4B",
        "colab_type": "code",
        "colab": {}
      },
      "source": [
        ""
      ],
      "execution_count": 0,
      "outputs": []
    }
  ]
}