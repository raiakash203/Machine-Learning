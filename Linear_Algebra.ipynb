{
  "nbformat": 4,
  "nbformat_minor": 0,
  "metadata": {
    "colab": {
      "name": "Linear_Algebra.ipynb",
      "provenance": [],
      "authorship_tag": "ABX9TyMq4XWpsFNaGRlZH/FzShGv",
      "include_colab_link": true
    },
    "kernelspec": {
      "name": "python3",
      "display_name": "Python 3"
    }
  },
  "cells": [
    {
      "cell_type": "markdown",
      "metadata": {
        "id": "view-in-github",
        "colab_type": "text"
      },
      "source": [
        "<a href=\"https://colab.research.google.com/github/raiakash203/Machine-Learning/blob/Dimension-Reduction/Linear_Algebra.ipynb\" target=\"_parent\"><img src=\"https://colab.research.google.com/assets/colab-badge.svg\" alt=\"Open In Colab\"/></a>"
      ]
    },
    {
      "cell_type": "markdown",
      "metadata": {
        "id": "9gwdHXyhbi2g",
        "colab_type": "text"
      },
      "source": [
        "# Vectors\n",
        "\n",
        "Line/Hyperplane: is reperesented by\n",
        "                      \n",
        "                      = W.X+b   \n",
        "\n",
        "this reperesent a plane which has a intercept, now if a line/hyperplane passing through origin then it is represented by\n",
        "\n",
        "                      = W.X\n",
        "\n",
        "The above is just a simple dot products of the weights and the I/P\n",
        "\n",
        "so to reperesent a plane we only need W,b"
      ]
    },
    {
      "cell_type": "code",
      "metadata": {
        "id": "cpyWukEGY5mU",
        "colab_type": "code",
        "colab": {
          "base_uri": "https://localhost:8080/",
          "height": 51
        },
        "outputId": "54603fa5-83e2-4cda-ebb4-cacde5cbff2b"
      },
      "source": [
        "import numpy as np\n",
        "\n",
        "w = np.array([1.2,1,0,0,1.3,1])\n",
        "b = 1.2\n",
        "\n",
        "#Plane is represented by\n",
        "pi = (w,b)\n",
        "\n",
        "print(type(pi))\n",
        "print(w.size)\n",
        "\n",
        "#Plane which passes through origin\n",
        "pi_0 = (w,0)\n",
        "\n",
        "#Both pi and pi_0 are parralel to each other as weight(w) is same"
      ],
      "execution_count": 1,
      "outputs": [
        {
          "output_type": "stream",
          "text": [
            "<class 'tuple'>\n",
            "6\n"
          ],
          "name": "stdout"
        }
      ]
    },
    {
      "cell_type": "markdown",
      "metadata": {
        "id": "o7PioYueegsV",
        "colab_type": "text"
      },
      "source": [
        "Unit vector :\n",
        "\n",
        "            W_hat = w/||w||\n",
        "\n",
        "where ||w|| = norm of vector w  = sqrt(w.w) = sqrt(dot_product of w with w)"
      ]
    },
    {
      "cell_type": "code",
      "metadata": {
        "id": "RF977pDzeB9C",
        "colab_type": "code",
        "colab": {
          "base_uri": "https://localhost:8080/",
          "height": 85
        },
        "outputId": "51316d65-51d1-4769-9d02-69b6d75127bf"
      },
      "source": [
        "import math\n",
        "#unit vector w_hat from w\n",
        "w_norm = math.sqrt(np.dot(w,w))\n",
        "print(w_norm)\n",
        "\n",
        "#there is a direct way to calculate the norm of a vector\n",
        "print(np.linalg.norm(w,2))\n",
        "\n",
        "w_hat = w/w_norm\n",
        "\n",
        "print(w_hat)\n",
        "print(np.linalg.norm(w_hat,2))"
      ],
      "execution_count": 4,
      "outputs": [
        {
          "output_type": "stream",
          "text": [
            "2.264950330581225\n",
            "2.264950330581225\n",
            "[0.52981294 0.44151079 0.         0.         0.57396402 0.44151079]\n",
            "1.0\n"
          ],
          "name": "stdout"
        }
      ]
    },
    {
      "cell_type": "markdown",
      "metadata": {
        "id": "5qyt2gyWgr3m",
        "colab_type": "text"
      },
      "source": [
        "Angle between two vectors :\n",
        "\n",
        "        cos(theta) = V1.V2 / ||V1|| ||V2||\n",
        "\n"
      ]
    },
    {
      "cell_type": "code",
      "metadata": {
        "id": "OhxF6BpUgWqm",
        "colab_type": "code",
        "colab": {
          "base_uri": "https://localhost:8080/",
          "height": 34
        },
        "outputId": "4b740fa3-74b2-4eba-bef7-7b5a1df0f67e"
      },
      "source": [
        "np.random.seed(100)\n",
        "\n",
        "V1 = np.random.randn(6)\n",
        "V2 = np.random.randn(6)\n",
        "\n",
        "theta = math.acos(np.dot(V1,V2)/np.linalg.norm(V1,2) * np.linalg.norm(V2,2))\n",
        "\n",
        "#Angle is in radian\n",
        "print(theta)"
      ],
      "execution_count": 6,
      "outputs": [
        {
          "output_type": "stream",
          "text": [
            "2.3215458824469355\n"
          ],
          "name": "stdout"
        }
      ]
    },
    {
      "cell_type": "markdown",
      "metadata": {
        "id": "jfDGwtDYiMHU",
        "colab_type": "text"
      },
      "source": [
        "Distance from a plane:\n",
        "\n",
        "            |W.X+b|/||W||\n",
        "\n",
        "We use absolute value in the numerator, as distances are always positive"
      ]
    },
    {
      "cell_type": "code",
      "metadata": {
        "id": "TTFEKUfVhuXh",
        "colab_type": "code",
        "colab": {
          "base_uri": "https://localhost:8080/",
          "height": 34
        },
        "outputId": "e49bd5f5-0c68-43a1-827e-28636f1e3af8"
      },
      "source": [
        "import math\n",
        "\n",
        "np.random.seed(100)\n",
        "\n",
        "W = np.random.rand(6)\n",
        "b = 1.2\n",
        "\n",
        "x = np.random.rand(6)\n",
        "\n",
        "distance = abs(np.dot(W,x)+b)/np.linalg.norm(W,2)\n",
        "\n",
        "print(distance)"
      ],
      "execution_count": 7,
      "outputs": [
        {
          "output_type": "stream",
          "text": [
            "2.091751043283853\n"
          ],
          "name": "stdout"
        }
      ]
    },
    {
      "cell_type": "markdown",
      "metadata": {
        "id": "KtK9CGu6kXxV",
        "colab_type": "text"
      },
      "source": [
        "To check whether the above solution is correct or not we need to to have w in only one direction,intercept ot be 0( i.e passing through origin) and your point for the corresponding dorection of the weight to be there and rest to be zero. This will give us the distnace corresponding to the point"
      ]
    },
    {
      "cell_type": "code",
      "metadata": {
        "id": "fVV4zDeCi8CP",
        "colab_type": "code",
        "colab": {
          "base_uri": "https://localhost:8080/",
          "height": 34
        },
        "outputId": "ee7742ac-b94e-4dcc-92a3-498d50c49440"
      },
      "source": [
        "import math\n",
        "\n",
        "np.random.seed(100)\n",
        "\n",
        "W = np.array([1,0,0,0,0,0])\n",
        "b = 0\n",
        "\n",
        "x = np.array([10,0,0,0,0,0])\n",
        "\n",
        "distance = abs(np.dot(W,x)+b)/np.linalg.norm(W,2)\n",
        "\n",
        "print(distance)"
      ],
      "execution_count": 9,
      "outputs": [
        {
          "output_type": "stream",
          "text": [
            "10.0\n"
          ],
          "name": "stdout"
        }
      ]
    },
    {
      "cell_type": "markdown",
      "metadata": {
        "id": "r7XYBEXjlUZ5",
        "colab_type": "text"
      },
      "source": [
        "The plane divide the space into two seprate spaces which are positve half space and negative half space.\n",
        "\n",
        "positive half space -> direction in which W is pointing (i.e W.X+b>0) if X is point\n",
        "\n",
        "negative half space -> direction opposite to W is (i.e W.X+b<0)\n",
        "\n",
        "on the plane if W.X+b=0"
      ]
    },
    {
      "cell_type": "code",
      "metadata": {
        "id": "sPuroKoqlCZV",
        "colab_type": "code",
        "colab": {
          "base_uri": "https://localhost:8080/",
          "height": 34
        },
        "outputId": "a0afcf97-85a0-44f1-d121-f33322755649"
      },
      "source": [
        "import math\n",
        "\n",
        "np.random.seed(100)\n",
        "\n",
        "W = np.random.rand(6)\n",
        "b = 1.2\n",
        "\n",
        "x = np.random.rand(6)\n",
        "\n",
        "distance = np.sign((np.dot(W,x)+b)/np.linalg.norm(W,2))\n",
        "\n",
        "print(distance)"
      ],
      "execution_count": 10,
      "outputs": [
        {
          "output_type": "stream",
          "text": [
            "1.0\n"
          ],
          "name": "stdout"
        }
      ]
    },
    {
      "cell_type": "markdown",
      "metadata": {
        "id": "oNjvzBQRmvCK",
        "colab_type": "text"
      },
      "source": [
        "## Matrices"
      ]
    },
    {
      "cell_type": "code",
      "metadata": {
        "id": "EJvjR9xsmbRD",
        "colab_type": "code",
        "colab": {
          "base_uri": "https://localhost:8080/",
          "height": 799
        },
        "outputId": "aceaa848-de49-4ce1-890d-42086a3a9383"
      },
      "source": [
        "#Basic operations\n",
        "\n",
        "np.random.seed(100)\n",
        "\n",
        "n = 10\n",
        "d = 4\n",
        "\n",
        "#Matrix with n*d\n",
        "X1 = np.random.rand(n,d)\n",
        "X2 = np.random.rand(n,d)\n",
        "\n",
        "#d-dim vector\n",
        "W = np.random.rand(d)\n",
        "\n",
        "print(X1)\n",
        "print('-X'*30)\n",
        "print(X2)\n",
        "print('-X'*30)\n",
        "print(X1+X2)\n",
        "print('-X'*30)\n",
        "\n",
        "print(X1*X2) # This gives the element wise product i.e hadamard product\n",
        "\n",
        "print('-X'*30)\n",
        "\n",
        "try:\n",
        "  print(np.matmul(X1,X2)) # This gives the matrix multiplication\n",
        "except Exception as e:\n",
        "  print(e)\n",
        "\n",
        "print(np.matmul(X1,X2.T).shape)"
      ],
      "execution_count": 12,
      "outputs": [
        {
          "output_type": "stream",
          "text": [
            "[[0.54340494 0.27836939 0.42451759 0.84477613]\n",
            " [0.00471886 0.12156912 0.67074908 0.82585276]\n",
            " [0.13670659 0.57509333 0.89132195 0.20920212]\n",
            " [0.18532822 0.10837689 0.21969749 0.97862378]\n",
            " [0.81168315 0.17194101 0.81622475 0.27407375]\n",
            " [0.43170418 0.94002982 0.81764938 0.33611195]\n",
            " [0.17541045 0.37283205 0.00568851 0.25242635]\n",
            " [0.79566251 0.01525497 0.59884338 0.60380454]\n",
            " [0.10514769 0.38194344 0.03647606 0.89041156]\n",
            " [0.98092086 0.05994199 0.89054594 0.5769015 ]]\n",
            "-X-X-X-X-X-X-X-X-X-X-X-X-X-X-X-X-X-X-X-X-X-X-X-X-X-X-X-X-X-X\n",
            "[[0.74247969 0.63018394 0.58184219 0.02043913]\n",
            " [0.21002658 0.54468488 0.76911517 0.25069523]\n",
            " [0.28589569 0.85239509 0.97500649 0.88485329]\n",
            " [0.35950784 0.59885895 0.35479561 0.34019022]\n",
            " [0.17808099 0.23769421 0.04486228 0.50543143]\n",
            " [0.37625245 0.5928054  0.62994188 0.14260031]\n",
            " [0.9338413  0.94637988 0.60229666 0.38776628]\n",
            " [0.363188   0.20434528 0.27676506 0.24653588]\n",
            " [0.173608   0.96660969 0.9570126  0.59797368]\n",
            " [0.73130075 0.34038522 0.0920556  0.46349802]]\n",
            "-X-X-X-X-X-X-X-X-X-X-X-X-X-X-X-X-X-X-X-X-X-X-X-X-X-X-X-X-X-X\n",
            "[[1.28588463 0.90855332 1.00635978 0.86521526]\n",
            " [0.21474543 0.666254   1.43986426 1.07654798]\n",
            " [0.42260228 1.42748842 1.86632845 1.09405542]\n",
            " [0.54483606 0.70723584 0.5744931  1.318814  ]\n",
            " [0.98976414 0.40963522 0.86108703 0.77950518]\n",
            " [0.80795664 1.53283522 1.44759125 0.47871226]\n",
            " [1.10925175 1.31921193 0.60798517 0.64019263]\n",
            " [1.15885051 0.21960025 0.87560844 0.85034042]\n",
            " [0.27875569 1.34855314 0.99348866 1.48838525]\n",
            " [1.71222161 0.40032721 0.98260155 1.04039952]]\n",
            "-X-X-X-X-X-X-X-X-X-X-X-X-X-X-X-X-X-X-X-X-X-X-X-X-X-X-X-X-X-X\n",
            "[[0.40346713 0.17542391 0.24700225 0.01726649]\n",
            " [0.00099109 0.06621686 0.5158833  0.20703735]\n",
            " [0.03908382 0.49020673 0.86904469 0.18511319]\n",
            " [0.06662695 0.06490247 0.07794771 0.33291824]\n",
            " [0.14454534 0.04086938 0.03661771 0.13852549]\n",
            " [0.16242976 0.55725475 0.51507158 0.04792967]\n",
            " [0.16380553 0.35284075 0.00342617 0.09788243]\n",
            " [0.28897508 0.00311728 0.16573892 0.14885948]\n",
            " [0.01825448 0.36919024 0.03490805 0.53244268]\n",
            " [0.71734816 0.02040337 0.08197974 0.2673927 ]]\n",
            "-X-X-X-X-X-X-X-X-X-X-X-X-X-X-X-X-X-X-X-X-X-X-X-X-X-X-X-X-X-X\n",
            "matmul: Input operand 1 has a mismatch in its core dimension 0, with gufunc signature (n?,k),(k,m?)->(n?,m?) (size 10 is different from 4)\n",
            "(10, 10)\n"
          ],
          "name": "stdout"
        }
      ]
    },
    {
      "cell_type": "code",
      "metadata": {
        "id": "aUvBkjcsoPyq",
        "colab_type": "code",
        "colab": {
          "base_uri": "https://localhost:8080/",
          "height": 282
        },
        "outputId": "ee862eae-3b24-4e8b-dc20-2e962ed31cac"
      },
      "source": [
        "  # W.X\n",
        "  #Keep in mind always about the dimensions\n",
        "\n",
        "print(np.dot(W,X1[0,:]))\n",
        "\n",
        "print(np.matmul(W,X1.T))\n",
        "\n",
        "print(np.matmul(X1,W.T))\n",
        "\n",
        "print(np.matmul(W,X1))"
      ],
      "execution_count": 13,
      "outputs": [
        {
          "output_type": "stream",
          "text": [
            "1.3633657660004666\n",
            "[1.36336577 1.18671009 0.7986263  1.19082077 1.13103214 1.06798649\n",
            " 0.37566246 1.32138202 0.98996493 1.54691292]\n",
            "[1.36336577 1.18671009 0.7986263  1.19082077 1.13103214 1.06798649\n",
            " 0.37566246 1.32138202 0.98996493 1.54691292]\n"
          ],
          "name": "stdout"
        },
        {
          "output_type": "error",
          "ename": "ValueError",
          "evalue": "ignored",
          "traceback": [
            "\u001b[0;31m---------------------------------------------------------------------------\u001b[0m",
            "\u001b[0;31mValueError\u001b[0m                                Traceback (most recent call last)",
            "\u001b[0;32m<ipython-input-13-0fb97d070f72>\u001b[0m in \u001b[0;36m<module>\u001b[0;34m()\u001b[0m\n\u001b[1;32m      6\u001b[0m \u001b[0mprint\u001b[0m\u001b[0;34m(\u001b[0m\u001b[0mnp\u001b[0m\u001b[0;34m.\u001b[0m\u001b[0mmatmul\u001b[0m\u001b[0;34m(\u001b[0m\u001b[0mX1\u001b[0m\u001b[0;34m,\u001b[0m\u001b[0mW\u001b[0m\u001b[0;34m.\u001b[0m\u001b[0mT\u001b[0m\u001b[0;34m)\u001b[0m\u001b[0;34m)\u001b[0m\u001b[0;34m\u001b[0m\u001b[0;34m\u001b[0m\u001b[0m\n\u001b[1;32m      7\u001b[0m \u001b[0;34m\u001b[0m\u001b[0m\n\u001b[0;32m----> 8\u001b[0;31m \u001b[0mprint\u001b[0m\u001b[0;34m(\u001b[0m\u001b[0mnp\u001b[0m\u001b[0;34m.\u001b[0m\u001b[0mmatmul\u001b[0m\u001b[0;34m(\u001b[0m\u001b[0mW\u001b[0m\u001b[0;34m,\u001b[0m\u001b[0mX1\u001b[0m\u001b[0;34m)\u001b[0m\u001b[0;34m)\u001b[0m\u001b[0;34m\u001b[0m\u001b[0;34m\u001b[0m\u001b[0m\n\u001b[0m",
            "\u001b[0;31mValueError\u001b[0m: matmul: Input operand 1 has a mismatch in its core dimension 0, with gufunc signature (n?,k),(k,m?)->(n?,m?) (size 10 is different from 4)"
          ]
        }
      ]
    },
    {
      "cell_type": "markdown",
      "metadata": {
        "id": "UKIakFI7qeUm",
        "colab_type": "text"
      },
      "source": [
        "Forebinus norm of matrix A:\n",
        "\n",
        "                      ||A||f = sqrt(sum(i over rows(sum(j over columns Aij**2)))"
      ]
    },
    {
      "cell_type": "code",
      "metadata": {
        "id": "WQTEdPtzp4a-",
        "colab_type": "code",
        "colab": {
          "base_uri": "https://localhost:8080/",
          "height": 68
        },
        "outputId": "85913699-c4b9-449c-ca15-61cb2e86ea6f"
      },
      "source": [
        "print(np.linalg.norm(X1, 'fro'))\n",
        "\n",
        "#implementing frobenius norm using formula\n",
        "\n",
        "sh = X1.shape\n",
        "print(sh)\n",
        "\n",
        "sum = 0 \n",
        "for i in range(sh[0]):\n",
        "  for j in range(sh[1]):\n",
        "    sum += X1[i,j]**2\n",
        "\n",
        "print(math.sqrt(sum))"
      ],
      "execution_count": 15,
      "outputs": [
        {
          "output_type": "stream",
          "text": [
            "3.5450215353341896\n",
            "(10, 4)\n",
            "3.54502153533419\n"
          ],
          "name": "stdout"
        }
      ]
    },
    {
      "cell_type": "markdown",
      "metadata": {
        "id": "eqzUA0Mwr3Io",
        "colab_type": "text"
      },
      "source": [
        "# Convolution\n",
        "\n",
        "Convolution uses hadamard product between the image and the kernel, i.e element wise product."
      ]
    },
    {
      "cell_type": "code",
      "metadata": {
        "id": "ADwytYUBrpIX",
        "colab_type": "code",
        "colab": {}
      },
      "source": [
        "from scipy import signal,misc"
      ],
      "execution_count": 0,
      "outputs": []
    },
    {
      "cell_type": "code",
      "metadata": {
        "id": "rZ4OdaOBvBwp",
        "colab_type": "code",
        "colab": {
          "base_uri": "https://localhost:8080/",
          "height": 303
        },
        "outputId": "8bbab6f6-2a82-4798-d3b9-d92bc0d74196"
      },
      "source": [
        "ascent = misc.ascent()\n",
        "print(type(ascent))\n",
        "print(ascent.shape)\n",
        "\n",
        "import matplotlib.pyplot as plt\n",
        "img_plot = plt.imshow(ascent,cmap='gray',vmin=0,vmax=255)"
      ],
      "execution_count": 17,
      "outputs": [
        {
          "output_type": "stream",
          "text": [
            "<class 'numpy.ndarray'>\n",
            "(512, 512)\n"
          ],
          "name": "stdout"
        },
        {
          "output_type": "display_data",
          "data": {
            "image/png": "[encoded data removed]",
            "text/plain": [
              "<Figure size 432x288 with 1 Axes>"
            ]
          },
          "metadata": {
            "tags": [],
            "needs_background": "light"
          }
        }
      ]
    },
    {
      "cell_type": "code",
      "metadata": {
        "id": "qED0RY5nvbTT",
        "colab_type": "code",
        "colab": {
          "base_uri": "https://localhost:8080/",
          "height": 439
        },
        "outputId": "6c6837ee-eba0-4786-cb40-46ce111ef5b6"
      },
      "source": [
        "k = 10\n",
        "kernel = np.ones((k,k))\n",
        "kernel /= np.sum(kernel)\n",
        "\n",
        "print(kernel)\n",
        "\n",
        "blurred = signal.convolve2d(ascent,kernel)\n",
        "\n",
        "plt.imshow(blurred,cmap='gray')\n",
        "plt.show()"
      ],
      "execution_count": 18,
      "outputs": [
        {
          "output_type": "stream",
          "text": [
            "[[0.01 0.01 0.01 0.01 0.01 0.01 0.01 0.01 0.01 0.01]\n",
            " [0.01 0.01 0.01 0.01 0.01 0.01 0.01 0.01 0.01 0.01]\n",
            " [0.01 0.01 0.01 0.01 0.01 0.01 0.01 0.01 0.01 0.01]\n",
            " [0.01 0.01 0.01 0.01 0.01 0.01 0.01 0.01 0.01 0.01]\n",
            " [0.01 0.01 0.01 0.01 0.01 0.01 0.01 0.01 0.01 0.01]\n",
            " [0.01 0.01 0.01 0.01 0.01 0.01 0.01 0.01 0.01 0.01]\n",
            " [0.01 0.01 0.01 0.01 0.01 0.01 0.01 0.01 0.01 0.01]\n",
            " [0.01 0.01 0.01 0.01 0.01 0.01 0.01 0.01 0.01 0.01]\n",
            " [0.01 0.01 0.01 0.01 0.01 0.01 0.01 0.01 0.01 0.01]\n",
            " [0.01 0.01 0.01 0.01 0.01 0.01 0.01 0.01 0.01 0.01]]\n"
          ],
          "name": "stdout"
        },
        {
          "output_type": "display_data",
          "data": {
            "image/png": "[encoded data removed]",
            "text/plain": [
              "<Figure size 432x288 with 1 Axes>"
            ]
          },
          "metadata": {
            "tags": [],
            "needs_background": "light"
          }
        }
      ]
    },
    {
      "cell_type": "markdown",
      "metadata": {
        "id": "Q_e8xtkiwkEb",
        "colab_type": "text"
      },
      "source": [
        "The above process perform the image blurring, using 2-D convolution.\n",
        "\n",
        "If we increase in the kernel size the blurring will increase.\n",
        "\n",
        "There are many kernels for specific purpose such as edge detection kenels. "
      ]
    },
    {
      "cell_type": "markdown",
      "metadata": {
        "id": "vsmbBwD6xabz",
        "colab_type": "text"
      },
      "source": [
        "# Hyper-Sphere"
      ]
    },
    {
      "cell_type": "code",
      "metadata": {
        "id": "vXkPPHBSwbmq",
        "colab_type": "code",
        "colab": {
          "base_uri": "https://localhost:8080/",
          "height": 85
        },
        "outputId": "454e6844-0ac5-4da1-f46f-7ccf9573d955"
      },
      "source": [
        "#Representation\n",
        "\n",
        "np.random.seed(100)\n",
        "\n",
        "c = np.random.rand(10)\n",
        "r = 10\n",
        "\n",
        "print(c)\n",
        "print(r)\n",
        "\n",
        "circle = (c,r)\n",
        "print(np.linalg.norm(r))\n"
      ],
      "execution_count": 19,
      "outputs": [
        {
          "output_type": "stream",
          "text": [
            "[0.54340494 0.27836939 0.42451759 0.84477613 0.00471886 0.12156912\n",
            " 0.67074908 0.82585276 0.13670659 0.57509333]\n",
            "10\n",
            "10.0\n"
          ],
          "name": "stdout"
        }
      ]
    },
    {
      "cell_type": "code",
      "metadata": {
        "id": "n3EyvuYFySHd",
        "colab_type": "code",
        "colab": {
          "base_uri": "https://localhost:8080/",
          "height": 51
        },
        "outputId": "085418a2-7d38-4ec9-d3f9-948236550f68"
      },
      "source": [
        "#Check if a point is inside or outside\n",
        "\n",
        "x1 = c + np.zeros(10)\n",
        "x1_c = x1 - c\n",
        "d_x1_c = np.linalg.norm(x1_c)\n",
        "print(d_x1_c)\n",
        "\n",
        "x2 = c + r + (np.ones(10)+0.5)\n",
        "d_x2_c = np.linalg.norm(x2-c)\n",
        "print(d_x2_c)"
      ],
      "execution_count": 21,
      "outputs": [
        {
          "output_type": "stream",
          "text": [
            "0.0\n",
            "36.36619309193636\n"
          ],
          "name": "stdout"
        }
      ]
    },
    {
      "cell_type": "code",
      "metadata": {
        "id": "-jv60JQxy81F",
        "colab_type": "code",
        "colab": {}
      },
      "source": [
        ""
      ],
      "execution_count": 0,
      "outputs": []
    }
  ]
}